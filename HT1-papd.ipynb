{
 "cells": [
  {
   "cell_type": "markdown",
   "metadata": {},
   "source": [
    "# **Hoja de trabajo 1 - Ciencia de datos en Python**\n",
    "## *(Jupyter Notebooks, Markdown y Git)*"
   ]
  },
  {
   "cell_type": "markdown",
   "metadata": {},
   "source": [
    "###### *\\\"En una ocasión, estaba programando lenguaje C desde consola y utilizaba gcc para compilar el código, guardando el ejecutable con el nombre que se asignaba en la misma instrucción de compilar. Por equivocación ingrese el nombre del archivo \".c\" en al parámetro de gcc que se refería al nombre del archivo ejecutable. Fue un desastre, se sobrescribió el código. Con Git hubiese sido distinta la historia de mi proyecto final.\\\"*\n",
    "\n",
    "###### Quien escribe este ensayo\n",
    "\n",
    "\n",
    "Git, es un controlador de versiones creado por Linus Trovalds -creador del kernel de Linux-, con el objetivo inicial de ser utilizado en el desarrollo del kernel. El contexto en el que nace Git es un factor clave, **la comunidad**.\n",
    "Para los proyectos de código abierto, existe una comunidad que está constantemente agregando características o corrigiendo bugs, desde distintos lugares del planeta. Esto último incide directamente en que Git esté orientado a los trabajos de softwer donde participan varias personas, aunque su utilidad se extrapola al trabajo individual de programación, y en general a cualquier tipo de proyecto en el que se desee tener un control de las versiones a lo largo del tiempo y la capacidad de tener líneas paralelas de trabajo, que luego serán vueltas a acoplar."
   ]
  },
  {
   "cell_type": "markdown",
   "metadata": {},
   "source": [
    "De forma general, se explicará los coneptos básicos subyacentes al funcionamiento de Git, esto permite asimilar de mejor manera los comandos y funciones realizados por Git.\n",
    "Los componentes básicos en la estructura de Git son:\n",
    "\n",
    "| Nombre | Descripción                                          | Tipo   |\n",
    "|--------|------------------------------------------------------|--------|\n",
    "| Tree   | Se refiere a los directorios dentro del repositorio. | Objeto |\n",
    "| Blob   | Se refiere a los archivos dentro del repositorio.    | Objeto |\n",
    "| Commit | Se refiere a una \"captura\" instantanea del proyecto. | Objeto |\n",
    "\n",
    "El hecho de que los git trabaje con objetos tiene una ventaja práctica para el funcionamiento de Git. Cada elemento dentro del repositorio tendrá atributos específicos y también la posibilidad de ejecutar metodos a sí mismos. Cuando se ejemplifiquen las funciones de Git se podrá apreciar que los elementos en Git comparten métodos que se pueden ejecutar ya sea a un \"commit\", a una \"branch\" o a un archivo.\n",
    "\n",
    "Git se basa en las referencias para llevar el control de las versiones. Cuando se crea un nuevo \"commit\", git utiliza el string de la función SHA-1 aplicada a todos los archivos que han sido incluídos para formar el \"commit\", como un identificador. Al mismo tiempo que crea un nuevo Hash para el commit recien ejecutado.\n",
    "\n",
    "Más allá del modelo teórico subyacente, se puede decir que git es una herramienta funcional que permite a los programadores, equipos de desarrollo y a quien tenga la necesidad de guardar registros históricos de sus archivos, manejar de manera eficiente el control de sus versiones.\n",
    "\n",
    "A continuación se describen algunos de los comandos básicos de git.\n",
    "\n",
    "\n",
    "\n",
    "\n",
    "\n",
    "\n",
    "\n",
    "\n"
   ]
  },
  {
   "cell_type": "markdown",
   "metadata": {},
   "source": [
    "## Comandos básicos de GIT"
   ]
  },
  {
   "cell_type": "code",
   "execution_count": 7,
   "metadata": {},
   "outputs": [
    {
     "name": "stderr",
     "output_type": "stream",
     "text": [
      "UsageError: Line magic function `%git` not found.\n"
     ]
    }
   ],
   "source": [
    "%git init"
   ]
  },
  {
   "cell_type": "markdown",
   "metadata": {},
   "source": [
    "Su función es la de crear un repositorio en caso no exista uno en dicho directorio, o inicializar uno existente."
   ]
  },
  {
   "cell_type": "code",
   "execution_count": null,
   "metadata": {},
   "outputs": [],
   "source": [
    "%git status"
   ]
  },
  {
   "cell_type": "markdown",
   "metadata": {},
   "source": [
    "Este comando indica cuál es el estatus del repositorio, permite identificar cambios en los archivos y señala cuales archivos serán incluídos para el próximo commit."
   ]
  },
  {
   "cell_type": "code",
   "execution_count": 8,
   "metadata": {},
   "outputs": [
    {
     "name": "stderr",
     "output_type": "stream",
     "text": [
      "UsageError: Line magic function `%git` not found.\n"
     ]
    }
   ],
   "source": [
    "%git add <archivo>"
   ]
  },
  {
   "cell_type": "markdown",
   "metadata": {},
   "source": [
    "Este comando permite agregar archivos para ser tomados en cuenta en la próxima ejecución de un commit."
   ]
  },
  {
   "cell_type": "code",
   "execution_count": 10,
   "metadata": {},
   "outputs": [
    {
     "name": "stderr",
     "output_type": "stream",
     "text": [
      "UsageError: Line magic function `%git` not found.\n"
     ]
    }
   ],
   "source": [
    "%git commit -m <mensaje>"
   ]
  },
  {
   "cell_type": "markdown",
   "metadata": {},
   "source": [
    "Este comando realiza el commit (una \"captura\" instantanea del proyecto). El mensaje se agrega para identificar a qué se refiere el commit en cuestion."
   ]
  },
  {
   "cell_type": "code",
   "execution_count": 11,
   "metadata": {},
   "outputs": [
    {
     "name": "stderr",
     "output_type": "stream",
     "text": [
      "UsageError: Line magic function `%git` not found.\n"
     ]
    }
   ],
   "source": [
    "%git log"
   ]
  },
  {
   "cell_type": "markdown",
   "metadata": {},
   "source": [
    "Muestra información sobre los commit que se han realizado a través del tiempo. También indica la rama en la que se trabaja y tiene capacidad de diagramar las relaciones entre commit. Agregando los siguientes parámetros: --all --graph --decorte --oneline"
   ]
  },
  {
   "cell_type": "code",
   "execution_count": 12,
   "metadata": {},
   "outputs": [
    {
     "name": "stderr",
     "output_type": "stream",
     "text": [
      "UsageError: Line magic function `%git` not found.\n"
     ]
    }
   ],
   "source": [
    "%git remote add origin <url>"
   ]
  },
  {
   "cell_type": "markdown",
   "metadata": {},
   "source": [
    "Este comando permite asociar el directorio local a un directorio remoto, que vendrá dado por el parámetro url. Para el caso particular de esta hoja de trabajo, el url es: https://github.com/victorhugo-94/HT1-papd"
   ]
  },
  {
   "cell_type": "code",
   "execution_count": 13,
   "metadata": {},
   "outputs": [
    {
     "name": "stderr",
     "output_type": "stream",
     "text": [
      "UsageError: Line magic function `%git` not found.\n"
     ]
    }
   ],
   "source": [
    "%git push -u origin master"
   ]
  },
  {
   "cell_type": "markdown",
   "metadata": {},
   "source": [
    "Este comando permite empujar nuestro repositorio hacia las demás instancias del mismo en ubicaciones distintas. En el caso de la hoja de trabajo, permite que los cambios realizados de manera local, se actualicen en el repositorio contenido en github."
   ]
  },
  {
   "cell_type": "markdown",
   "metadata": {},
   "source": [
    "Como conclusión puede decirse que git ha venido a mejorar los procesos de control de versiones para mucho usuarios. Su lógica es tal que permite desempeñar su cometido de manera eficiente y entendible, una vez se ha analizado su funcionamiento de manera más o menos general."
   ]
  },
  {
   "cell_type": "markdown",
   "metadata": {},
   "source": [
    "![](git.png)"
   ]
  },
  {
   "cell_type": "code",
   "execution_count": null,
   "metadata": {},
   "outputs": [],
   "source": []
  }
 ],
 "metadata": {
  "kernelspec": {
   "display_name": "Python 3",
   "language": "python",
   "name": "python3"
  },
  "language_info": {
   "codemirror_mode": {
    "name": "ipython",
    "version": 3
   },
   "file_extension": ".py",
   "mimetype": "text/x-python",
   "name": "python",
   "nbconvert_exporter": "python",
   "pygments_lexer": "ipython3",
   "version": "3.8.5"
  }
 },
 "nbformat": 4,
 "nbformat_minor": 4
}
