{
 "cells": [
  {
   "cell_type": "markdown",
   "metadata": {},
   "source": [
    "# **Hoja de trabajo 1 - Ciencia de datos en Python**\n",
    "## *(Jupyter Notebooks, Markdown y Git)*"
   ]
  },
  {
   "cell_type": "markdown",
   "metadata": {},
   "source": [
    "###### *\\\"En una ocasión, estaba programando lenguaje C desde consola y utilizaba gcc para compilar el código, guardando el ejecutable con el nombre que se asignaba en la misma instrucción de compilar. Por equivocación ingrese el nombre del archivo \".c\" en al parámetro de gcc que se refería al nombre del archivo ejecutable. Fue un desastre, se sobrescribió el código. Con Git hubiese sido distinta la historia de mi proyecto final.\\\"*\n",
    "\n",
    "###### Quien escribe este ensayo\n",
    "\n",
    "\n",
    "Git, es un controlador de versiones creado por Linus Trovalds -creador del kernel de Linux-, con el objetivo inicial de ser utilizado en el desarrollo del kernel. El contexto en el que nace Git es un factor clave, **la comunidad**.\n",
    "Para los proyectos de código abierto, existe una comunidad que está constantemente agregando características o corrigiendo bugs, desde distintos lugares del planeta. Esto último incide directamente en que Git esté orientado a los trabajos de softwer donde participan varias personas, aunque su utilidad se extrapola al trabajo individual de programación, y en general a cualquier tipo de proyecto en el que se desee tener un control de las versiones a lo largo del tiempo y la capacidad de tener líneas paralelas de trabajo, que luego serán vueltas a acoplar."
   ]
  },
  {
   "cell_type": "markdown",
   "metadata": {},
   "source": [
    "De forma general, se explicará los coneptos básicos subyacentes al funcionamiento de Git, esto permite asimilar de mejor manera los comandos y funciones realizados por Git.\n",
    "Los componentes básicos en la estructura de Git son:\n",
    "\n",
    "| Nombre | Descripción                                          | Tipo   |\n",
    "|--------|------------------------------------------------------|--------|\n",
    "| Tree   | Se refiere a los directorios dentro del repositorio. | Objeto |\n",
    "| Blob   | Se refiere a los archivos dentro del repositorio.    | Objeto |\n",
    "| Commit | Se refiere a una \"captura\" instantanea del proyecto. | Objeto |\n",
    "\n",
    "El hecho de que los git trabaje con objetos tiene una ventaja práctica para el funcionamiento de Git. Cada elemento dentro del repositorio tendrá atributos específicos y también la posibilidad de ejecutar metodos a sí mismos. Cuando se ejemplifiquen las funciones de Git se podrá apreciar que los elementos en Git comparten métodos que se pueden ejecutar ya sea a un \"commit\", a una \"branch\" o a un archivo.\n",
    "\n",
    "Git se basa en las referencias para llevar el control de las versiones. Cuando se crea un nuevo \"commit\", git utiliza el string de la función SHA-1 aplicada a todos los archivos que han sido incluídos para formar el \"commit\", como un identificador. Al mismo tiempo que crea un nuevo Hash para el commit recien \n",
    "\n",
    "\n",
    "\n",
    "\n",
    "\n",
    "\n",
    "\n",
    "\n"
   ]
  },
  {
   "cell_type": "markdown",
   "metadata": {},
   "source": [
    "Se podrá en práct"
   ]
  },
  {
   "cell_type": "code",
   "execution_count": 2,
   "metadata": {},
   "outputs": [
    {
     "name": "stderr",
     "output_type": "stream",
     "text": [
      "UsageError: Line magic function `%` not found.\n"
     ]
    }
   ],
   "source": [
    "% git init"
   ]
  },
  {
   "cell_type": "code",
   "execution_count": null,
   "metadata": {},
   "outputs": [],
   "source": []
  }
 ],
 "metadata": {
  "kernelspec": {
   "display_name": "Python 3",
   "language": "python",
   "name": "python3"
  },
  "language_info": {
   "codemirror_mode": {
    "name": "ipython",
    "version": 3
   },
   "file_extension": ".py",
   "mimetype": "text/x-python",
   "name": "python",
   "nbconvert_exporter": "python",
   "pygments_lexer": "ipython3",
   "version": "3.8.5"
  }
 },
 "nbformat": 4,
 "nbformat_minor": 4
}
